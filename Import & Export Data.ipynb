{
 "cells": [
  {
   "cell_type": "markdown",
   "metadata": {},
   "source": [
    "# Indian Trade Data regression\n",
    "By : Hesham Asem\n",
    "\n",
    "____\n",
    "\n",
    "so we have here 2 data files , for import & export for a specific indian company , between 2010 & 2018\n",
    "\n",
    "lets use them to build a regression model , so we can expect the value using other features . \n",
    "\n",
    "data file : \n",
    "https://www.kaggle.com/lakshyaag/india-trade-data#2018-2010_export.csv\n",
    "\n",
    "_____\n",
    "\n",
    "first to import the libraries \n"
   ]
  },
  {
   "cell_type": "code",
   "execution_count": 1,
   "metadata": {},
   "outputs": [],
   "source": [
    "import pandas as pd\n",
    "import numpy as np\n",
    "import matplotlib.pyplot as plt\n",
    "import seaborn as sns\n",
    "from sklearn.preprocessing import LabelEncoder\n",
    "from sklearn.model_selection import train_test_split\n",
    "from sklearn.ensemble import GradientBoostingRegressor\n",
    "\n",
    "%matplotlib inline\n",
    "sns.set(style=\"darkgrid\")"
   ]
  },
  {
   "cell_type": "markdown",
   "metadata": {},
   "source": [
    "then to read the data"
   ]
  },
  {
   "cell_type": "code",
   "execution_count": 2,
   "metadata": {},
   "outputs": [],
   "source": [
    "idata = pd.read_csv('2018-2010_import.csv') \n",
    "edata = pd.read_csv('2018-2010_export.csv') "
   ]
  },
  {
   "cell_type": "markdown",
   "metadata": {},
   "source": [
    "since we have 2 files , we'll need to handle them separately "
   ]
  },
  {
   "cell_type": "markdown",
   "metadata": {},
   "source": [
    "____\n",
    "\n",
    "# Needed Functions . \n",
    "\n",
    "as usual , we'll build here important funcstion which will be helpful in data processing . \n",
    "\n",
    "and you can see that some functions have the arg (data) , since we'll have to repeat our steps on idata & edata"
   ]
  },
  {
   "cell_type": "code",
   "execution_count": 3,
   "metadata": {},
   "outputs": [],
   "source": [
    "def max_counts( feature , number, data, return_rest = False ) : \n",
    "    counts = data[feature].value_counts()\n",
    "    values_list = list(counts[:number].values)\n",
    "    rest_value =  sum(counts.values) - sum (values_list)\n",
    "    index_list = list(counts[:number].index)\n",
    "    \n",
    "    if return_rest : \n",
    "        values_list.append(rest_value )\n",
    "        index_list.append('rest items')\n",
    "    \n",
    "    result = pd.Series(values_list, index=index_list)\n",
    "    if len(data[feature]) <= number : \n",
    "        result = None\n",
    "    return result"
   ]
  },
  {
   "cell_type": "code",
   "execution_count": 4,
   "metadata": {},
   "outputs": [],
   "source": [
    "def series_pie(series) : \n",
    "    plt.pie(series.values,labels=list(series.index),autopct ='%1.2f%%',labeldistance = 1.1,explode = [0.05 for i in range(len(series.values))] )\n",
    "    plt.show()"
   ]
  },
  {
   "cell_type": "code",
   "execution_count": 5,
   "metadata": {},
   "outputs": [],
   "source": [
    "def series_bar(series) : \n",
    "    plt.bar(list(series.index),series.values )\n",
    "    plt.show()"
   ]
  },
  {
   "cell_type": "code",
   "execution_count": 6,
   "metadata": {},
   "outputs": [],
   "source": [
    "def make_label_encoder(original_feature , new_feature,data) : \n",
    "    enc  = LabelEncoder()\n",
    "    enc.fit(data[original_feature])\n",
    "    data[new_feature] = enc.transform(data[original_feature])\n",
    "    data.drop([original_feature],axis=1, inplace=True)"
   ]
  },
  {
   "cell_type": "markdown",
   "metadata": {},
   "source": [
    "_____\n",
    "\n",
    "# Import Data\n",
    "\n",
    "let's have a look to import data"
   ]
  },
  {
   "cell_type": "code",
   "execution_count": 7,
   "metadata": {},
   "outputs": [
    {
     "data": {
      "text/html": [
       "<div>\n",
       "<style scoped>\n",
       "    .dataframe tbody tr th:only-of-type {\n",
       "        vertical-align: middle;\n",
       "    }\n",
       "\n",
       "    .dataframe tbody tr th {\n",
       "        vertical-align: top;\n",
       "    }\n",
       "\n",
       "    .dataframe thead th {\n",
       "        text-align: right;\n",
       "    }\n",
       "</style>\n",
       "<table border=\"1\" class=\"dataframe\">\n",
       "  <thead>\n",
       "    <tr style=\"text-align: right;\">\n",
       "      <th></th>\n",
       "      <th>HSCode</th>\n",
       "      <th>Commodity</th>\n",
       "      <th>value</th>\n",
       "      <th>country</th>\n",
       "      <th>year</th>\n",
       "    </tr>\n",
       "  </thead>\n",
       "  <tbody>\n",
       "    <tr>\n",
       "      <th>0</th>\n",
       "      <td>5</td>\n",
       "      <td>PRODUCTS OF ANIMAL ORIGIN, NOT ELSEWHERE SPECI...</td>\n",
       "      <td>0.00</td>\n",
       "      <td>AFGHANISTAN TIS</td>\n",
       "      <td>2018</td>\n",
       "    </tr>\n",
       "    <tr>\n",
       "      <th>1</th>\n",
       "      <td>7</td>\n",
       "      <td>EDIBLE VEGETABLES AND CERTAIN ROOTS AND TUBERS.</td>\n",
       "      <td>12.38</td>\n",
       "      <td>AFGHANISTAN TIS</td>\n",
       "      <td>2018</td>\n",
       "    </tr>\n",
       "    <tr>\n",
       "      <th>2</th>\n",
       "      <td>8</td>\n",
       "      <td>EDIBLE FRUIT AND NUTS; PEEL OR CITRUS FRUIT OR...</td>\n",
       "      <td>268.60</td>\n",
       "      <td>AFGHANISTAN TIS</td>\n",
       "      <td>2018</td>\n",
       "    </tr>\n",
       "    <tr>\n",
       "      <th>3</th>\n",
       "      <td>9</td>\n",
       "      <td>COFFEE, TEA, MATE AND SPICES.</td>\n",
       "      <td>35.48</td>\n",
       "      <td>AFGHANISTAN TIS</td>\n",
       "      <td>2018</td>\n",
       "    </tr>\n",
       "    <tr>\n",
       "      <th>4</th>\n",
       "      <td>11</td>\n",
       "      <td>PRODUCTS OF THE MILLING INDUSTRY; MALT; STARCH...</td>\n",
       "      <td>NaN</td>\n",
       "      <td>AFGHANISTAN TIS</td>\n",
       "      <td>2018</td>\n",
       "    </tr>\n",
       "  </tbody>\n",
       "</table>\n",
       "</div>"
      ],
      "text/plain": [
       "   HSCode                                          Commodity   value  \\\n",
       "0       5  PRODUCTS OF ANIMAL ORIGIN, NOT ELSEWHERE SPECI...    0.00   \n",
       "1       7    EDIBLE VEGETABLES AND CERTAIN ROOTS AND TUBERS.   12.38   \n",
       "2       8  EDIBLE FRUIT AND NUTS; PEEL OR CITRUS FRUIT OR...  268.60   \n",
       "3       9                      COFFEE, TEA, MATE AND SPICES.   35.48   \n",
       "4      11  PRODUCTS OF THE MILLING INDUSTRY; MALT; STARCH...     NaN   \n",
       "\n",
       "           country  year  \n",
       "0  AFGHANISTAN TIS  2018  \n",
       "1  AFGHANISTAN TIS  2018  \n",
       "2  AFGHANISTAN TIS  2018  \n",
       "3  AFGHANISTAN TIS  2018  \n",
       "4  AFGHANISTAN TIS  2018  "
      ]
     },
     "execution_count": 7,
     "metadata": {},
     "output_type": "execute_result"
    }
   ],
   "source": [
    "idata.head()"
   ]
  },
  {
   "cell_type": "markdown",
   "metadata": {},
   "source": [
    "few features , what is the dimension ? "
   ]
  },
  {
   "cell_type": "code",
   "execution_count": 8,
   "metadata": {},
   "outputs": [
    {
     "data": {
      "text/plain": [
       "(93095, 5)"
      ]
     },
     "execution_count": 8,
     "metadata": {},
     "output_type": "execute_result"
    }
   ],
   "source": [
    "idata.shape"
   ]
  },
  {
   "cell_type": "markdown",
   "metadata": {},
   "source": [
    "so we'll need to start in data processing"
   ]
  },
  {
   "cell_type": "markdown",
   "metadata": {},
   "source": [
    "_____\n",
    "\n",
    "# Data Processing\n"
   ]
  },
  {
   "cell_type": "markdown",
   "metadata": {},
   "source": [
    "let's start with HSCode feature , how many unique values in it"
   ]
  },
  {
   "cell_type": "code",
   "execution_count": 9,
   "metadata": {},
   "outputs": [
    {
     "data": {
      "text/plain": [
       "98"
      ]
     },
     "execution_count": 9,
     "metadata": {},
     "output_type": "execute_result"
    }
   ],
   "source": [
    "len(idata['HSCode'].unique())"
   ]
  },
  {
   "cell_type": "markdown",
   "metadata": {},
   "source": [
    "let's have a look to top values for it"
   ]
  },
  {
   "cell_type": "code",
   "execution_count": 10,
   "metadata": {},
   "outputs": [
    {
     "data": {
      "text/plain": [
       "85    2174\n",
       "84    2090\n",
       "39    1866\n",
       "99    1836\n",
       "72    1826\n",
       "90    1739\n",
       "76    1729\n",
       "73    1619\n",
       "74    1518\n",
       "40    1472\n",
       "Name: HSCode, dtype: int64"
      ]
     },
     "execution_count": 10,
     "metadata": {},
     "output_type": "execute_result"
    }
   ],
   "source": [
    "idata['HSCode'].value_counts()[:10]"
   ]
  },
  {
   "cell_type": "markdown",
   "metadata": {},
   "source": [
    "______\n",
    "\n",
    "so it looks that this feature is very correlated to the other feature Commodity . \n",
    "\n",
    "so how many are them "
   ]
  },
  {
   "cell_type": "code",
   "execution_count": 11,
   "metadata": {},
   "outputs": [
    {
     "data": {
      "text/plain": [
       "98"
      ]
     },
     "execution_count": 11,
     "metadata": {},
     "output_type": "execute_result"
    }
   ],
   "source": [
    "len(idata['HSCode'].unique())"
   ]
  },
  {
   "cell_type": "markdown",
   "metadata": {},
   "source": [
    "& how many unqiue values for Commodity ? "
   ]
  },
  {
   "cell_type": "code",
   "execution_count": 12,
   "metadata": {},
   "outputs": [
    {
     "data": {
      "text/plain": [
       "98"
      ]
     },
     "execution_count": 12,
     "metadata": {},
     "output_type": "execute_result"
    }
   ],
   "source": [
    "len(idata['Commodity'].unique())"
   ]
  },
  {
   "cell_type": "markdown",
   "metadata": {},
   "source": [
    "cool , lets get the Commodity data , for only specific HSCode value"
   ]
  },
  {
   "cell_type": "code",
   "execution_count": 13,
   "metadata": {},
   "outputs": [
    {
     "data": {
      "text/plain": [
       "0        PRODUCTS OF ANIMAL ORIGIN, NOT ELSEWHERE SPECI...\n",
       "217      PRODUCTS OF ANIMAL ORIGIN, NOT ELSEWHERE SPECI...\n",
       "308      PRODUCTS OF ANIMAL ORIGIN, NOT ELSEWHERE SPECI...\n",
       "505      PRODUCTS OF ANIMAL ORIGIN, NOT ELSEWHERE SPECI...\n",
       "638      PRODUCTS OF ANIMAL ORIGIN, NOT ELSEWHERE SPECI...\n",
       "922      PRODUCTS OF ANIMAL ORIGIN, NOT ELSEWHERE SPECI...\n",
       "1196     PRODUCTS OF ANIMAL ORIGIN, NOT ELSEWHERE SPECI...\n",
       "1392     PRODUCTS OF ANIMAL ORIGIN, NOT ELSEWHERE SPECI...\n",
       "2348     PRODUCTS OF ANIMAL ORIGIN, NOT ELSEWHERE SPECI...\n",
       "2360     PRODUCTS OF ANIMAL ORIGIN, NOT ELSEWHERE SPECI...\n",
       "2542     PRODUCTS OF ANIMAL ORIGIN, NOT ELSEWHERE SPECI...\n",
       "2892     PRODUCTS OF ANIMAL ORIGIN, NOT ELSEWHERE SPECI...\n",
       "3088     PRODUCTS OF ANIMAL ORIGIN, NOT ELSEWHERE SPECI...\n",
       "3434     PRODUCTS OF ANIMAL ORIGIN, NOT ELSEWHERE SPECI...\n",
       "3556     PRODUCTS OF ANIMAL ORIGIN, NOT ELSEWHERE SPECI...\n",
       "3746     PRODUCTS OF ANIMAL ORIGIN, NOT ELSEWHERE SPECI...\n",
       "4375     PRODUCTS OF ANIMAL ORIGIN, NOT ELSEWHERE SPECI...\n",
       "4439     PRODUCTS OF ANIMAL ORIGIN, NOT ELSEWHERE SPECI...\n",
       "4702     PRODUCTS OF ANIMAL ORIGIN, NOT ELSEWHERE SPECI...\n",
       "4835     PRODUCTS OF ANIMAL ORIGIN, NOT ELSEWHERE SPECI...\n",
       "4937     PRODUCTS OF ANIMAL ORIGIN, NOT ELSEWHERE SPECI...\n",
       "5026     PRODUCTS OF ANIMAL ORIGIN, NOT ELSEWHERE SPECI...\n",
       "5261     PRODUCTS OF ANIMAL ORIGIN, NOT ELSEWHERE SPECI...\n",
       "5373     PRODUCTS OF ANIMAL ORIGIN, NOT ELSEWHERE SPECI...\n",
       "5593     PRODUCTS OF ANIMAL ORIGIN, NOT ELSEWHERE SPECI...\n",
       "5810     PRODUCTS OF ANIMAL ORIGIN, NOT ELSEWHERE SPECI...\n",
       "6264     PRODUCTS OF ANIMAL ORIGIN, NOT ELSEWHERE SPECI...\n",
       "6382     PRODUCTS OF ANIMAL ORIGIN, NOT ELSEWHERE SPECI...\n",
       "6579     PRODUCTS OF ANIMAL ORIGIN, NOT ELSEWHERE SPECI...\n",
       "6822     PRODUCTS OF ANIMAL ORIGIN, NOT ELSEWHERE SPECI...\n",
       "                               ...                        \n",
       "88539    PRODUCTS OF ANIMAL ORIGIN, NOT ELSEWHERE SPECI...\n",
       "89024    PRODUCTS OF ANIMAL ORIGIN, NOT ELSEWHERE SPECI...\n",
       "89115    PRODUCTS OF ANIMAL ORIGIN, NOT ELSEWHERE SPECI...\n",
       "89286    PRODUCTS OF ANIMAL ORIGIN, NOT ELSEWHERE SPECI...\n",
       "89406    PRODUCTS OF ANIMAL ORIGIN, NOT ELSEWHERE SPECI...\n",
       "89465    PRODUCTS OF ANIMAL ORIGIN, NOT ELSEWHERE SPECI...\n",
       "89501    PRODUCTS OF ANIMAL ORIGIN, NOT ELSEWHERE SPECI...\n",
       "89597    PRODUCTS OF ANIMAL ORIGIN, NOT ELSEWHERE SPECI...\n",
       "89819    PRODUCTS OF ANIMAL ORIGIN, NOT ELSEWHERE SPECI...\n",
       "89901    PRODUCTS OF ANIMAL ORIGIN, NOT ELSEWHERE SPECI...\n",
       "89927    PRODUCTS OF ANIMAL ORIGIN, NOT ELSEWHERE SPECI...\n",
       "90158    PRODUCTS OF ANIMAL ORIGIN, NOT ELSEWHERE SPECI...\n",
       "90339    PRODUCTS OF ANIMAL ORIGIN, NOT ELSEWHERE SPECI...\n",
       "90619    PRODUCTS OF ANIMAL ORIGIN, NOT ELSEWHERE SPECI...\n",
       "90719    PRODUCTS OF ANIMAL ORIGIN, NOT ELSEWHERE SPECI...\n",
       "91041    PRODUCTS OF ANIMAL ORIGIN, NOT ELSEWHERE SPECI...\n",
       "91249    PRODUCTS OF ANIMAL ORIGIN, NOT ELSEWHERE SPECI...\n",
       "91260    PRODUCTS OF ANIMAL ORIGIN, NOT ELSEWHERE SPECI...\n",
       "91355    PRODUCTS OF ANIMAL ORIGIN, NOT ELSEWHERE SPECI...\n",
       "91446    PRODUCTS OF ANIMAL ORIGIN, NOT ELSEWHERE SPECI...\n",
       "91745    PRODUCTS OF ANIMAL ORIGIN, NOT ELSEWHERE SPECI...\n",
       "91875    PRODUCTS OF ANIMAL ORIGIN, NOT ELSEWHERE SPECI...\n",
       "91980    PRODUCTS OF ANIMAL ORIGIN, NOT ELSEWHERE SPECI...\n",
       "92033    PRODUCTS OF ANIMAL ORIGIN, NOT ELSEWHERE SPECI...\n",
       "92170    PRODUCTS OF ANIMAL ORIGIN, NOT ELSEWHERE SPECI...\n",
       "92329    PRODUCTS OF ANIMAL ORIGIN, NOT ELSEWHERE SPECI...\n",
       "92426    PRODUCTS OF ANIMAL ORIGIN, NOT ELSEWHERE SPECI...\n",
       "92523    PRODUCTS OF ANIMAL ORIGIN, NOT ELSEWHERE SPECI...\n",
       "92734    PRODUCTS OF ANIMAL ORIGIN, NOT ELSEWHERE SPECI...\n",
       "92925    PRODUCTS OF ANIMAL ORIGIN, NOT ELSEWHERE SPECI...\n",
       "Name: Commodity, Length: 511, dtype: object"
      ]
     },
     "execution_count": 13,
     "metadata": {},
     "output_type": "execute_result"
    }
   ],
   "source": [
    "new_data = idata[idata['HSCode']==5]['Commodity']\n",
    "new_data"
   ]
  },
  {
   "cell_type": "markdown",
   "metadata": {},
   "source": [
    "what are the unique values for it ? "
   ]
  },
  {
   "cell_type": "code",
   "execution_count": 14,
   "metadata": {},
   "outputs": [
    {
     "data": {
      "text/plain": [
       "array(['PRODUCTS OF ANIMAL ORIGIN, NOT ELSEWHERE SPECIFIED OR INCLUDED.'],\n",
       "      dtype=object)"
      ]
     },
     "execution_count": 14,
     "metadata": {},
     "output_type": "execute_result"
    }
   ],
   "source": [
    "new_data.unique()"
   ]
  },
  {
   "cell_type": "markdown",
   "metadata": {},
   "source": [
    "and to be more sure , we'll mak for block for HSCode values , to get unique values for Commodity data "
   ]
  },
  {
   "cell_type": "code",
   "execution_count": 15,
   "metadata": {},
   "outputs": [
    {
     "name": "stdout",
     "output_type": "stream",
     "text": [
      "0\n",
      "---------------\n",
      "1\n",
      "---------------\n",
      "1\n",
      "---------------\n",
      "1\n",
      "---------------\n",
      "1\n",
      "---------------\n",
      "1\n",
      "---------------\n",
      "1\n",
      "---------------\n",
      "1\n",
      "---------------\n",
      "1\n",
      "---------------\n",
      "1\n",
      "---------------\n",
      "1\n",
      "---------------\n",
      "1\n",
      "---------------\n",
      "1\n",
      "---------------\n",
      "1\n",
      "---------------\n",
      "1\n",
      "---------------\n",
      "1\n",
      "---------------\n",
      "1\n",
      "---------------\n",
      "1\n",
      "---------------\n",
      "1\n",
      "---------------\n",
      "1\n",
      "---------------\n",
      "1\n",
      "---------------\n",
      "1\n",
      "---------------\n",
      "1\n",
      "---------------\n",
      "1\n",
      "---------------\n",
      "1\n",
      "---------------\n",
      "1\n",
      "---------------\n",
      "1\n",
      "---------------\n",
      "1\n",
      "---------------\n",
      "1\n",
      "---------------\n",
      "1\n",
      "---------------\n",
      "1\n",
      "---------------\n",
      "1\n",
      "---------------\n",
      "1\n",
      "---------------\n",
      "1\n",
      "---------------\n",
      "1\n",
      "---------------\n",
      "1\n",
      "---------------\n",
      "1\n",
      "---------------\n",
      "1\n",
      "---------------\n",
      "1\n",
      "---------------\n",
      "1\n",
      "---------------\n",
      "1\n",
      "---------------\n",
      "1\n",
      "---------------\n",
      "1\n",
      "---------------\n",
      "1\n",
      "---------------\n",
      "1\n",
      "---------------\n",
      "1\n",
      "---------------\n",
      "1\n",
      "---------------\n",
      "1\n",
      "---------------\n",
      "1\n",
      "---------------\n",
      "1\n",
      "---------------\n",
      "1\n",
      "---------------\n",
      "1\n",
      "---------------\n",
      "1\n",
      "---------------\n",
      "1\n",
      "---------------\n",
      "1\n",
      "---------------\n",
      "1\n",
      "---------------\n",
      "1\n",
      "---------------\n",
      "1\n",
      "---------------\n",
      "1\n",
      "---------------\n",
      "1\n",
      "---------------\n",
      "1\n",
      "---------------\n",
      "1\n",
      "---------------\n",
      "1\n",
      "---------------\n",
      "1\n",
      "---------------\n",
      "1\n",
      "---------------\n",
      "1\n",
      "---------------\n",
      "1\n",
      "---------------\n",
      "1\n",
      "---------------\n",
      "1\n",
      "---------------\n",
      "1\n",
      "---------------\n",
      "1\n",
      "---------------\n",
      "1\n",
      "---------------\n",
      "1\n",
      "---------------\n",
      "1\n",
      "---------------\n",
      "1\n",
      "---------------\n",
      "1\n",
      "---------------\n",
      "1\n",
      "---------------\n",
      "0\n",
      "---------------\n",
      "1\n",
      "---------------\n",
      "1\n",
      "---------------\n",
      "1\n",
      "---------------\n",
      "1\n",
      "---------------\n",
      "1\n",
      "---------------\n",
      "1\n",
      "---------------\n",
      "1\n",
      "---------------\n",
      "1\n",
      "---------------\n",
      "1\n",
      "---------------\n",
      "1\n",
      "---------------\n",
      "1\n",
      "---------------\n",
      "1\n",
      "---------------\n",
      "1\n",
      "---------------\n",
      "1\n",
      "---------------\n",
      "1\n",
      "---------------\n",
      "1\n",
      "---------------\n",
      "1\n",
      "---------------\n",
      "1\n",
      "---------------\n",
      "1\n",
      "---------------\n",
      "1\n",
      "---------------\n",
      "1\n",
      "---------------\n"
     ]
    }
   ],
   "source": [
    "for x in range(idata['HSCode'].max()): \n",
    "    new_data = idata[idata['HSCode']==x]['Commodity']\n",
    "    print(len(new_data.unique()))\n",
    "    print('---------------')"
   ]
  },
  {
   "cell_type": "markdown",
   "metadata": {},
   "source": [
    "so it's clear that those two features are very correlated , so we can drop one of them , let's drop commodity"
   ]
  },
  {
   "cell_type": "code",
   "execution_count": 16,
   "metadata": {},
   "outputs": [],
   "source": [
    "idata.drop(['Commodity'],axis=1, inplace=True)"
   ]
  },
  {
   "cell_type": "markdown",
   "metadata": {},
   "source": [
    "_____\n",
    "\n",
    "how data looks like now ? "
   ]
  },
  {
   "cell_type": "code",
   "execution_count": 17,
   "metadata": {},
   "outputs": [
    {
     "data": {
      "text/html": [
       "<div>\n",
       "<style scoped>\n",
       "    .dataframe tbody tr th:only-of-type {\n",
       "        vertical-align: middle;\n",
       "    }\n",
       "\n",
       "    .dataframe tbody tr th {\n",
       "        vertical-align: top;\n",
       "    }\n",
       "\n",
       "    .dataframe thead th {\n",
       "        text-align: right;\n",
       "    }\n",
       "</style>\n",
       "<table border=\"1\" class=\"dataframe\">\n",
       "  <thead>\n",
       "    <tr style=\"text-align: right;\">\n",
       "      <th></th>\n",
       "      <th>HSCode</th>\n",
       "      <th>value</th>\n",
       "      <th>country</th>\n",
       "      <th>year</th>\n",
       "    </tr>\n",
       "  </thead>\n",
       "  <tbody>\n",
       "    <tr>\n",
       "      <th>0</th>\n",
       "      <td>5</td>\n",
       "      <td>0.00</td>\n",
       "      <td>AFGHANISTAN TIS</td>\n",
       "      <td>2018</td>\n",
       "    </tr>\n",
       "    <tr>\n",
       "      <th>1</th>\n",
       "      <td>7</td>\n",
       "      <td>12.38</td>\n",
       "      <td>AFGHANISTAN TIS</td>\n",
       "      <td>2018</td>\n",
       "    </tr>\n",
       "    <tr>\n",
       "      <th>2</th>\n",
       "      <td>8</td>\n",
       "      <td>268.60</td>\n",
       "      <td>AFGHANISTAN TIS</td>\n",
       "      <td>2018</td>\n",
       "    </tr>\n",
       "    <tr>\n",
       "      <th>3</th>\n",
       "      <td>9</td>\n",
       "      <td>35.48</td>\n",
       "      <td>AFGHANISTAN TIS</td>\n",
       "      <td>2018</td>\n",
       "    </tr>\n",
       "    <tr>\n",
       "      <th>4</th>\n",
       "      <td>11</td>\n",
       "      <td>NaN</td>\n",
       "      <td>AFGHANISTAN TIS</td>\n",
       "      <td>2018</td>\n",
       "    </tr>\n",
       "  </tbody>\n",
       "</table>\n",
       "</div>"
      ],
      "text/plain": [
       "   HSCode   value          country  year\n",
       "0       5    0.00  AFGHANISTAN TIS  2018\n",
       "1       7   12.38  AFGHANISTAN TIS  2018\n",
       "2       8  268.60  AFGHANISTAN TIS  2018\n",
       "3       9   35.48  AFGHANISTAN TIS  2018\n",
       "4      11     NaN  AFGHANISTAN TIS  2018"
      ]
     },
     "execution_count": 17,
     "metadata": {},
     "output_type": "execute_result"
    }
   ],
   "source": [
    "idata.head()"
   ]
  },
  {
   "cell_type": "markdown",
   "metadata": {},
   "source": [
    "let's work with country feature"
   ]
  },
  {
   "cell_type": "code",
   "execution_count": 18,
   "metadata": {},
   "outputs": [
    {
     "data": {
      "text/plain": [
       "array(['AFGHANISTAN TIS', 'ALBANIA', 'ALGERIA', 'AMERI SAMOA', 'ANDORRA',\n",
       "       'ANGOLA', 'ANGUILLA', 'ANTARTICA', 'ANTIGUA', 'ARGENTINA',\n",
       "       'ARMENIA', 'ARUBA', 'AUSTRALIA', 'AUSTRIA', 'AZERBAIJAN',\n",
       "       'BAHAMAS', 'BAHARAIN IS', 'BANGLADESH PR', 'BARBADOS', 'BELARUS',\n",
       "       'BELGIUM', 'BELIZE', 'BENIN', 'BERMUDA', 'BHUTAN', 'BOLIVIA',\n",
       "       'BOSNIA-HRZGOVIN', 'BOTSWANA', 'BR VIRGN IS', 'BRAZIL', 'BRUNEI',\n",
       "       'BULGARIA', 'BURKINA FASO', 'BURUNDI', 'C AFRI REP', 'CAMBODIA',\n",
       "       'CAMEROON', 'CANADA', 'CAPE VERDE IS', 'CAYMAN IS', 'CHAD',\n",
       "       'CHILE', 'CHINA P RP', 'CHRISTMAS IS.', 'COCOS IS', 'COLOMBIA',\n",
       "       'COMOROS', 'CONGO D. REP.', 'CONGO P REP', 'COOK IS', 'COSTA RICA',\n",
       "       \"COTE D' IVOIRE\", 'CROATIA', 'CUBA', 'CYPRUS', 'CZECH REPUBLIC',\n",
       "       'DENMARK', 'DJIBOUTI', 'DOMINIC REP', 'DOMINICA', 'ECUADOR',\n",
       "       'EGYPT A RP', 'EL SALVADOR', 'EQUTL GUINEA', 'ERITREA', 'ESTONIA',\n",
       "       'ETHIOPIA', 'FAROE IS.', 'FIJI IS', 'FINLAND', 'FR GUIANA',\n",
       "       'FR POLYNESIA', 'FRANCE', 'GABON', 'GAMBIA', 'GEORGIA', 'GERMANY',\n",
       "       'GHANA', 'GIBRALTAR', 'GREECE', 'GREENLAND', 'GRENADA',\n",
       "       'GUADELOUPE', 'GUAM', 'GUATEMALA', 'GUERNSEY', 'GUINEA',\n",
       "       'GUINEA BISSAU', 'GUYANA', 'HAITI', 'HONDURAS', 'HONG KONG',\n",
       "       'HUNGARY', 'ICELAND', 'INDONESIA', 'IRAN', 'IRAQ', 'IRELAND',\n",
       "       'ISRAEL', 'ITALY', 'JAMAICA', 'JAPAN', 'JERSEY         ', 'JORDAN',\n",
       "       'KAZAKHSTAN', 'KENYA', 'KIRIBATI REP', 'KOREA DP RP', 'KOREA RP',\n",
       "       'KUWAIT', 'KYRGHYZSTAN', 'LAO PD RP', 'LATVIA', 'LEBANON',\n",
       "       'LESOTHO', 'LIBERIA', 'LIBYA', 'LIECHTENSTEIN', 'LITHUANIA',\n",
       "       'LUXEMBOURG', 'MACAO', 'MACEDONIA', 'MADAGASCAR', 'MALAWI',\n",
       "       'MALAYSIA', 'MALDIVES', 'MALI', 'MALTA', 'MARSHALL ISLAND',\n",
       "       'MARTINIQUE', 'MAURITANIA', 'MAURITIUS', 'MAYOTTE', 'MEXICO',\n",
       "       'MOLDOVA', 'MONACO', 'MONGOLIA', 'MONTENEGRO', 'MONTSERRAT',\n",
       "       'MOROCCO', 'MOZAMBIQUE', 'MYANMAR', 'N. MARIANA IS.', 'NAMIBIA',\n",
       "       'NAURU RP', 'NEPAL', 'NETHERLAND', 'NETHERLANDANTIL',\n",
       "       'NEW CALEDONIA', 'NEW ZEALAND', 'NICARAGUA', 'NIGER', 'NIGERIA',\n",
       "       'NIUE IS', 'NORFOLK IS', 'NORWAY', 'OMAN', 'PAKISTAN IR', 'PALAU',\n",
       "       'PANAMA REPUBLIC', 'PAPUA N GNA', 'PARAGUAY', 'PERU',\n",
       "       'PHILIPPINES', 'PITCAIRN IS.', 'POLAND', 'PORTUGAL', 'PUERTO RICO',\n",
       "       'QATAR', 'REUNION', 'ROMANIA', 'RUSSIA', 'RWANDA', 'SAMOA',\n",
       "       'SAN MARINO', 'SAO TOME', 'SAUDI ARAB', 'SENEGAL', 'SERBIA',\n",
       "       'SEYCHELLES', 'SIERRA LEONE', 'SINGAPORE', 'SLOVAK REP',\n",
       "       'SLOVENIA', 'SOLOMON IS', 'SOMALIA', 'SOUTH AFRICA',\n",
       "       'SOUTH SUDAN ', 'SPAIN', 'SRI LANKA DSR', 'ST HELENA',\n",
       "       'ST KITT N A', 'ST LUCIA', 'ST VINCENT', 'STATE OF PALEST',\n",
       "       'SUDAN', 'SURINAME', 'SWAZILAND', 'SWEDEN', 'SWITZERLAND', 'SYRIA',\n",
       "       'TAIWAN', 'TAJIKISTAN', 'TANZANIA REP', 'THAILAND', 'TIMOR LESTE',\n",
       "       'TOGO', 'TOKELAU IS', 'TONGA', 'TRINIDAD', 'TUNISIA', 'TURKEY',\n",
       "       'TURKMENISTAN', 'TURKS C IS', 'TUVALU', 'U ARAB EMTS', 'U K',\n",
       "       'U S A', 'UGANDA', 'UKRAINE', 'UNSPECIFIED', 'URUGUAY',\n",
       "       'US MINOR OUTLYING ISLANDS               ', 'UZBEKISTAN',\n",
       "       'VANUATU REP', 'VATICAN CITY', 'VENEZUELA', 'VIETNAM SOC REP',\n",
       "       'VIRGIN IS US', 'WALLIS F IS', 'YEMEN REPUBLC', 'ZAMBIA',\n",
       "       'ZIMBABWE', 'HEARD MACDONALD', 'PANAMA C Z', 'FALKLAND IS',\n",
       "       'FR S ANT TR', 'ST PIERRE', 'UNION OF SERBIA & MONTENEGRO',\n",
       "       'MICRONESIA', 'PACIFIC IS', 'CHANNEL IS'], dtype=object)"
      ]
     },
     "execution_count": 18,
     "metadata": {},
     "output_type": "execute_result"
    }
   ],
   "source": [
    "idata['country'].unique()"
   ]
  },
  {
   "cell_type": "markdown",
   "metadata": {},
   "source": [
    "how many country we have here "
   ]
  },
  {
   "cell_type": "code",
   "execution_count": 19,
   "metadata": {},
   "outputs": [
    {
     "data": {
      "text/plain": [
       "242"
      ]
     },
     "execution_count": 19,
     "metadata": {},
     "output_type": "execute_result"
    }
   ],
   "source": [
    "len(idata['country'].unique())"
   ]
  },
  {
   "cell_type": "markdown",
   "metadata": {},
   "source": [
    "what are the most repeated countries "
   ]
  },
  {
   "cell_type": "code",
   "execution_count": 20,
   "metadata": {},
   "outputs": [],
   "source": [
    "counts = idata['country'].value_counts()"
   ]
  },
  {
   "cell_type": "code",
   "execution_count": 21,
   "metadata": {},
   "outputs": [
    {
     "data": {
      "text/plain": [
       "BELGIUM       1143\n",
       "AUSTRALIA     1095\n",
       "U S A         1075\n",
       "ITALY         1069\n",
       "GERMANY       1069\n",
       "CHINA P RP    1064\n",
       "U K           1063\n",
       "FRANCE        1060\n",
       "SINGAPORE     1051\n",
       "THAILAND      1050\n",
       "Name: country, dtype: int64"
      ]
     },
     "execution_count": 21,
     "metadata": {},
     "output_type": "execute_result"
    }
   ],
   "source": [
    "counts[:10]"
   ]
  },
  {
   "cell_type": "markdown",
   "metadata": {},
   "source": [
    "so we'll need to get the max countries to graph them , let's say we'll get max 8 countries"
   ]
  },
  {
   "cell_type": "code",
   "execution_count": 22,
   "metadata": {},
   "outputs": [],
   "source": [
    "max_countries = max_counts('country',8,idata)"
   ]
  },
  {
   "cell_type": "code",
   "execution_count": 23,
   "metadata": {},
   "outputs": [
    {
     "data": {
      "text/plain": [
       "BELGIUM       1143\n",
       "AUSTRALIA     1095\n",
       "U S A         1075\n",
       "ITALY         1069\n",
       "GERMANY       1069\n",
       "CHINA P RP    1064\n",
       "U K           1063\n",
       "FRANCE        1060\n",
       "dtype: int64"
      ]
     },
     "execution_count": 23,
     "metadata": {},
     "output_type": "execute_result"
    }
   ],
   "source": [
    "max_countries"
   ]
  },
  {
   "cell_type": "markdown",
   "metadata": {},
   "source": [
    "____\n",
    "\n",
    "let's pie chart it"
   ]
  },
  {
   "cell_type": "code",
   "execution_count": 24,
   "metadata": {},
   "outputs": [
    {
     "data": {
      "image/png": "[encoded data removed]",
      "text/plain": [
       "<Figure size 432x288 with 1 Axes>"
      ]
     },
     "metadata": {},
     "output_type": "display_data"
    }
   ],
   "source": [
    "series_pie(max_countries)"
   ]
  },
  {
   "cell_type": "markdown",
   "metadata": {},
   "source": [
    "also we can bar them "
   ]
  },
  {
   "cell_type": "code",
   "execution_count": 25,
   "metadata": {},
   "outputs": [
    {
     "data": {
      "image/png": "[encoded data removed]",
      "text/plain": [
       "<Figure size 432x288 with 1 Axes>"
      ]
     },
     "metadata": {
      "needs_background": "light"
     },
     "output_type": "display_data"
    }
   ],
   "source": [
    "series_bar(max_countries)"
   ]
  },
  {
   "cell_type": "markdown",
   "metadata": {},
   "source": [
    "so we can apply labelencoder to them"
   ]
  },
  {
   "cell_type": "code",
   "execution_count": 26,
   "metadata": {},
   "outputs": [],
   "source": [
    "make_label_encoder('country','country_code',idata)"
   ]
  },
  {
   "cell_type": "markdown",
   "metadata": {},
   "source": [
    "_____\n",
    "\n",
    "now how data looks like "
   ]
  },
  {
   "cell_type": "code",
   "execution_count": 27,
   "metadata": {},
   "outputs": [
    {
     "data": {
      "text/html": [
       "<div>\n",
       "<style scoped>\n",
       "    .dataframe tbody tr th:only-of-type {\n",
       "        vertical-align: middle;\n",
       "    }\n",
       "\n",
       "    .dataframe tbody tr th {\n",
       "        vertical-align: top;\n",
       "    }\n",
       "\n",
       "    .dataframe thead th {\n",
       "        text-align: right;\n",
       "    }\n",
       "</style>\n",
       "<table border=\"1\" class=\"dataframe\">\n",
       "  <thead>\n",
       "    <tr style=\"text-align: right;\">\n",
       "      <th></th>\n",
       "      <th>HSCode</th>\n",
       "      <th>value</th>\n",
       "      <th>year</th>\n",
       "      <th>country_code</th>\n",
       "    </tr>\n",
       "  </thead>\n",
       "  <tbody>\n",
       "    <tr>\n",
       "      <th>0</th>\n",
       "      <td>5</td>\n",
       "      <td>0.00</td>\n",
       "      <td>2018</td>\n",
       "      <td>0</td>\n",
       "    </tr>\n",
       "    <tr>\n",
       "      <th>1</th>\n",
       "      <td>7</td>\n",
       "      <td>12.38</td>\n",
       "      <td>2018</td>\n",
       "      <td>0</td>\n",
       "    </tr>\n",
       "    <tr>\n",
       "      <th>2</th>\n",
       "      <td>8</td>\n",
       "      <td>268.60</td>\n",
       "      <td>2018</td>\n",
       "      <td>0</td>\n",
       "    </tr>\n",
       "    <tr>\n",
       "      <th>3</th>\n",
       "      <td>9</td>\n",
       "      <td>35.48</td>\n",
       "      <td>2018</td>\n",
       "      <td>0</td>\n",
       "    </tr>\n",
       "    <tr>\n",
       "      <th>4</th>\n",
       "      <td>11</td>\n",
       "      <td>NaN</td>\n",
       "      <td>2018</td>\n",
       "      <td>0</td>\n",
       "    </tr>\n",
       "  </tbody>\n",
       "</table>\n",
       "</div>"
      ],
      "text/plain": [
       "   HSCode   value  year  country_code\n",
       "0       5    0.00  2018             0\n",
       "1       7   12.38  2018             0\n",
       "2       8  268.60  2018             0\n",
       "3       9   35.48  2018             0\n",
       "4      11     NaN  2018             0"
      ]
     },
     "execution_count": 27,
     "metadata": {},
     "output_type": "execute_result"
    }
   ],
   "source": [
    "idata.head()"
   ]
  },
  {
   "cell_type": "markdown",
   "metadata": {},
   "source": [
    "we ned to check if we have any nulls"
   ]
  },
  {
   "cell_type": "code",
   "execution_count": 28,
   "metadata": {},
   "outputs": [
    {
     "name": "stdout",
     "output_type": "stream",
     "text": [
      "<class 'pandas.core.frame.DataFrame'>\n",
      "RangeIndex: 93095 entries, 0 to 93094\n",
      "Data columns (total 4 columns):\n",
      "HSCode          93095 non-null int64\n",
      "value           79068 non-null float64\n",
      "year            93095 non-null int64\n",
      "country_code    93095 non-null int32\n",
      "dtypes: float64(1), int32(1), int64(2)\n",
      "memory usage: 2.5 MB\n"
     ]
    }
   ],
   "source": [
    "idata.info()"
   ]
  },
  {
   "cell_type": "markdown",
   "metadata": {},
   "source": [
    "so value feature got more than 14K null value , & we cannot fill them with mean or median , since this is the output , so it will mislead the training , we'll have to drop all these rows with any value less than or equal 0"
   ]
  },
  {
   "cell_type": "code",
   "execution_count": 29,
   "metadata": {},
   "outputs": [],
   "source": [
    "new_data  = idata[idata['value'] > 0]"
   ]
  },
  {
   "cell_type": "markdown",
   "metadata": {},
   "source": [
    "now how fata looks like "
   ]
  },
  {
   "cell_type": "code",
   "execution_count": 30,
   "metadata": {},
   "outputs": [
    {
     "data": {
      "text/plain": [
       "(68614, 4)"
      ]
     },
     "execution_count": 30,
     "metadata": {},
     "output_type": "execute_result"
    }
   ],
   "source": [
    "new_data.shape"
   ]
  },
  {
   "cell_type": "code",
   "execution_count": 31,
   "metadata": {},
   "outputs": [
    {
     "name": "stdout",
     "output_type": "stream",
     "text": [
      "<class 'pandas.core.frame.DataFrame'>\n",
      "Int64Index: 68614 entries, 1 to 93090\n",
      "Data columns (total 4 columns):\n",
      "HSCode          68614 non-null int64\n",
      "value           68614 non-null float64\n",
      "year            68614 non-null int64\n",
      "country_code    68614 non-null int32\n",
      "dtypes: float64(1), int32(1), int64(2)\n",
      "memory usage: 2.4 MB\n"
     ]
    }
   ],
   "source": [
    "new_data.info()"
   ]
  },
  {
   "cell_type": "markdown",
   "metadata": {},
   "source": [
    "cool , now we ready for training\n",
    "\n",
    "________\n",
    "\n"
   ]
  },
  {
   "cell_type": "markdown",
   "metadata": {},
   "source": [
    "\n",
    "_____\n",
    "\n",
    "\n",
    "\n",
    "# Building the Model\n",
    "\n",
    "\n",
    "let's first define X & y"
   ]
  },
  {
   "cell_type": "code",
   "execution_count": 32,
   "metadata": {},
   "outputs": [],
   "source": [
    "X = new_data.drop(['value'], axis=1, inplace=False)\n",
    "y = new_data['value']"
   ]
  },
  {
   "cell_type": "markdown",
   "metadata": {},
   "source": [
    "what are the dimensions ? "
   ]
  },
  {
   "cell_type": "code",
   "execution_count": 33,
   "metadata": {},
   "outputs": [
    {
     "data": {
      "text/plain": [
       "(68614, 3)"
      ]
     },
     "execution_count": 33,
     "metadata": {},
     "output_type": "execute_result"
    }
   ],
   "source": [
    "X.shape"
   ]
  },
  {
   "cell_type": "code",
   "execution_count": 34,
   "metadata": {},
   "outputs": [
    {
     "data": {
      "text/plain": [
       "(68614,)"
      ]
     },
     "execution_count": 34,
     "metadata": {},
     "output_type": "execute_result"
    }
   ],
   "source": [
    "y.shape"
   ]
  },
  {
   "cell_type": "markdown",
   "metadata": {},
   "source": [
    "split it"
   ]
  },
  {
   "cell_type": "code",
   "execution_count": 35,
   "metadata": {},
   "outputs": [
    {
     "name": "stdout",
     "output_type": "stream",
     "text": [
      "X_train shape is  (54891, 3)\n",
      "X_test shape is  (13723, 3)\n",
      "y_train shape is  (54891,)\n",
      "y_test shape is  (13723,)\n"
     ]
    }
   ],
   "source": [
    "X_train, X_test, y_train, y_test = train_test_split(X, y, test_size=0.20, random_state=44, shuffle =True)\n",
    "\n",
    "#Splitted Data\n",
    "print('X_train shape is ' , X_train.shape)\n",
    "print('X_test shape is ' , X_test.shape)\n",
    "print('y_train shape is ' , y_train.shape)\n",
    "print('y_test shape is ' , y_test.shape)"
   ]
  },
  {
   "cell_type": "markdown",
   "metadata": {},
   "source": [
    "_____\n",
    "\n",
    "let's  use Gradient Boosting Regressor , with 1000 estimators & 10 depth & 0.1 learning rate"
   ]
  },
  {
   "cell_type": "code",
   "execution_count": 36,
   "metadata": {},
   "outputs": [
    {
     "data": {
      "text/plain": [
       "GradientBoostingRegressor(alpha=0.9, criterion='friedman_mse', init=None,\n",
       "             learning_rate=0.1, loss='ls', max_depth=10, max_features=None,\n",
       "             max_leaf_nodes=None, min_impurity_decrease=0.0,\n",
       "             min_impurity_split=None, min_samples_leaf=1,\n",
       "             min_samples_split=2, min_weight_fraction_leaf=0.0,\n",
       "             n_estimators=1000, n_iter_no_change=None, presort='auto',\n",
       "             random_state=33, subsample=1.0, tol=0.0001,\n",
       "             validation_fraction=0.1, verbose=0, warm_start=False)"
      ]
     },
     "execution_count": 36,
     "metadata": {},
     "output_type": "execute_result"
    }
   ],
   "source": [
    "GBRModel = GradientBoostingRegressor(n_estimators=1000,max_depth=10,learning_rate = 0.1 ,random_state=33)\n",
    "GBRModel.fit(X_train, y_train)"
   ]
  },
  {
   "cell_type": "markdown",
   "metadata": {},
   "source": [
    "now how is accuracy ? "
   ]
  },
  {
   "cell_type": "code",
   "execution_count": 37,
   "metadata": {},
   "outputs": [
    {
     "name": "stdout",
     "output_type": "stream",
     "text": [
      "GBRModel Train Score is :  0.9999860298382643\n",
      "GBRModel Test Score is :  0.9543294928842732\n"
     ]
    }
   ],
   "source": [
    "print('GBRModel Train Score is : ' , GBRModel.score(X_train, y_train))\n",
    "print('GBRModel Test Score is : ' , GBRModel.score(X_test, y_test))"
   ]
  },
  {
   "cell_type": "markdown",
   "metadata": {},
   "source": [
    "great work , & even we avoided OF , since test accuracy is high , now let's make prediction "
   ]
  },
  {
   "cell_type": "code",
   "execution_count": 38,
   "metadata": {},
   "outputs": [
    {
     "name": "stdout",
     "output_type": "stream",
     "text": [
      "Predicted Value for GBRModel is :  [ 0.34157409  3.32058755  0.36913974  7.24597004 10.10562048  1.48526775\n",
      "  4.13261347 73.38731982  4.18547747  3.16427755]\n"
     ]
    }
   ],
   "source": [
    "y_pred = GBRModel.predict(X_test)\n",
    "print('Predicted Value for GBRModel is : ' , y_pred[:10])"
   ]
  },
  {
   "cell_type": "markdown",
   "metadata": {},
   "source": [
    "______\n",
    "\n",
    "______\n",
    "\n",
    "# Export Data\n",
    "\n",
    "\n",
    "now , we'll have to repeat almost all steps to export data , instead of import data"
   ]
  },
  {
   "cell_type": "code",
   "execution_count": 39,
   "metadata": {},
   "outputs": [
    {
     "data": {
      "text/plain": [
       "98"
      ]
     },
     "execution_count": 39,
     "metadata": {},
     "output_type": "execute_result"
    }
   ],
   "source": [
    "len(edata['HSCode'].unique())"
   ]
  },
  {
   "cell_type": "code",
   "execution_count": 40,
   "metadata": {},
   "outputs": [
    {
     "data": {
      "text/plain": [
       "85    1963\n",
       "84    1945\n",
       "90    1917\n",
       "30    1916\n",
       "62    1907\n",
       "73    1880\n",
       "39    1872\n",
       "87    1866\n",
       "63    1865\n",
       "99    1856\n",
       "Name: HSCode, dtype: int64"
      ]
     },
     "execution_count": 40,
     "metadata": {},
     "output_type": "execute_result"
    }
   ],
   "source": [
    "edata['HSCode'].value_counts()[:10]"
   ]
  },
  {
   "cell_type": "code",
   "execution_count": 41,
   "metadata": {},
   "outputs": [
    {
     "data": {
      "text/plain": [
       "98"
      ]
     },
     "execution_count": 41,
     "metadata": {},
     "output_type": "execute_result"
    }
   ],
   "source": [
    "len(edata['HSCode'].value_counts())"
   ]
  },
  {
   "cell_type": "code",
   "execution_count": 42,
   "metadata": {},
   "outputs": [],
   "source": [
    "edata.drop(['Commodity'],axis=1, inplace=True)"
   ]
  },
  {
   "cell_type": "code",
   "execution_count": 43,
   "metadata": {},
   "outputs": [
    {
     "data": {
      "text/html": [
       "<div>\n",
       "<style scoped>\n",
       "    .dataframe tbody tr th:only-of-type {\n",
       "        vertical-align: middle;\n",
       "    }\n",
       "\n",
       "    .dataframe tbody tr th {\n",
       "        vertical-align: top;\n",
       "    }\n",
       "\n",
       "    .dataframe thead th {\n",
       "        text-align: right;\n",
       "    }\n",
       "</style>\n",
       "<table border=\"1\" class=\"dataframe\">\n",
       "  <thead>\n",
       "    <tr style=\"text-align: right;\">\n",
       "      <th></th>\n",
       "      <th>HSCode</th>\n",
       "      <th>value</th>\n",
       "      <th>country</th>\n",
       "      <th>year</th>\n",
       "    </tr>\n",
       "  </thead>\n",
       "  <tbody>\n",
       "    <tr>\n",
       "      <th>0</th>\n",
       "      <td>2</td>\n",
       "      <td>0.18</td>\n",
       "      <td>AFGHANISTAN TIS</td>\n",
       "      <td>2018</td>\n",
       "    </tr>\n",
       "    <tr>\n",
       "      <th>1</th>\n",
       "      <td>3</td>\n",
       "      <td>0.00</td>\n",
       "      <td>AFGHANISTAN TIS</td>\n",
       "      <td>2018</td>\n",
       "    </tr>\n",
       "    <tr>\n",
       "      <th>2</th>\n",
       "      <td>4</td>\n",
       "      <td>12.48</td>\n",
       "      <td>AFGHANISTAN TIS</td>\n",
       "      <td>2018</td>\n",
       "    </tr>\n",
       "    <tr>\n",
       "      <th>3</th>\n",
       "      <td>6</td>\n",
       "      <td>0.00</td>\n",
       "      <td>AFGHANISTAN TIS</td>\n",
       "      <td>2018</td>\n",
       "    </tr>\n",
       "    <tr>\n",
       "      <th>4</th>\n",
       "      <td>7</td>\n",
       "      <td>1.89</td>\n",
       "      <td>AFGHANISTAN TIS</td>\n",
       "      <td>2018</td>\n",
       "    </tr>\n",
       "  </tbody>\n",
       "</table>\n",
       "</div>"
      ],
      "text/plain": [
       "   HSCode  value          country  year\n",
       "0       2   0.18  AFGHANISTAN TIS  2018\n",
       "1       3   0.00  AFGHANISTAN TIS  2018\n",
       "2       4  12.48  AFGHANISTAN TIS  2018\n",
       "3       6   0.00  AFGHANISTAN TIS  2018\n",
       "4       7   1.89  AFGHANISTAN TIS  2018"
      ]
     },
     "execution_count": 43,
     "metadata": {},
     "output_type": "execute_result"
    }
   ],
   "source": [
    "edata.head()"
   ]
  },
  {
   "cell_type": "code",
   "execution_count": 44,
   "metadata": {},
   "outputs": [
    {
     "data": {
      "text/plain": [
       "array(['AFGHANISTAN TIS', 'ALBANIA', 'ALGERIA', 'AMERI SAMOA', 'ANDORRA',\n",
       "       'ANGOLA', 'ANGUILLA', 'ANTARTICA', 'ANTIGUA', 'ARGENTINA',\n",
       "       'ARMENIA', 'ARUBA', 'AUSTRALIA', 'AUSTRIA', 'AZERBAIJAN',\n",
       "       'BAHAMAS', 'BAHARAIN IS', 'BANGLADESH PR', 'BARBADOS', 'BELARUS',\n",
       "       'BELGIUM', 'BELIZE', 'BENIN', 'BERMUDA', 'BHUTAN', 'BOLIVIA',\n",
       "       'BOSNIA-HRZGOVIN', 'BOTSWANA', 'BR VIRGN IS', 'BRAZIL', 'BRUNEI',\n",
       "       'BULGARIA', 'BURKINA FASO', 'BURUNDI', 'C AFRI REP', 'CAMBODIA',\n",
       "       'CAMEROON', 'CANADA', 'CAPE VERDE IS', 'CAYMAN IS', 'CHAD',\n",
       "       'CHILE', 'CHINA P RP', 'COLOMBIA', 'COMOROS', 'CONGO D. REP.',\n",
       "       'CONGO P REP', 'COOK IS', 'COSTA RICA', \"COTE D' IVOIRE\",\n",
       "       'CROATIA', 'CUBA', 'CURACAO', 'CYPRUS', 'CZECH REPUBLIC',\n",
       "       'DENMARK', 'DJIBOUTI', 'DOMINIC REP', 'DOMINICA', 'ECUADOR',\n",
       "       'EGYPT A RP', 'EL SALVADOR', 'EQUTL GUINEA', 'ERITREA', 'ESTONIA',\n",
       "       'ETHIOPIA', 'FALKLAND IS', 'FAROE IS.', 'FIJI IS', 'FINLAND',\n",
       "       'FR GUIANA', 'FR POLYNESIA', 'FRANCE', 'GABON', 'GAMBIA',\n",
       "       'GEORGIA', 'GERMANY', 'GHANA', 'GIBRALTAR', 'GREECE', 'GREENLAND',\n",
       "       'GRENADA', 'GUADELOUPE', 'GUAM', 'GUATEMALA', 'GUERNSEY', 'GUINEA',\n",
       "       'GUINEA BISSAU', 'GUYANA', 'HAITI', 'HEARD MACDONALD', 'HONDURAS',\n",
       "       'HONG KONG', 'HUNGARY', 'ICELAND', 'INDONESIA',\n",
       "       'INSTALLATIONS IN INTERNATIONAL WATERS   ', 'IRAN', 'IRAQ',\n",
       "       'IRELAND', 'ISRAEL', 'ITALY', 'JAMAICA', 'JAPAN',\n",
       "       'JERSEY         ', 'JORDAN', 'KAZAKHSTAN', 'KENYA', 'KIRIBATI REP',\n",
       "       'KOREA DP RP', 'KOREA RP', 'KUWAIT', 'KYRGHYZSTAN', 'LAO PD RP',\n",
       "       'LATVIA', 'LEBANON', 'LESOTHO', 'LIBERIA', 'LIBYA',\n",
       "       'LIECHTENSTEIN', 'LITHUANIA', 'LUXEMBOURG', 'MACAO', 'MACEDONIA',\n",
       "       'MADAGASCAR', 'MALAWI', 'MALAYSIA', 'MALDIVES', 'MALI', 'MALTA',\n",
       "       'MARSHALL ISLAND', 'MARTINIQUE', 'MAURITANIA', 'MAURITIUS',\n",
       "       'MAYOTTE', 'MEXICO', 'MICRONESIA', 'MOLDOVA', 'MONACO', 'MONGOLIA',\n",
       "       'MONTENEGRO', 'MONTSERRAT', 'MOROCCO', 'MOZAMBIQUE', 'MYANMAR',\n",
       "       'N. MARIANA IS.', 'NAMIBIA', 'NAURU RP', 'NEPAL', 'NETHERLAND',\n",
       "       'NETHERLANDANTIL', 'NEW CALEDONIA', 'NEW ZEALAND', 'NICARAGUA',\n",
       "       'NIGER', 'NIGERIA', 'NORFOLK IS', 'NORWAY', 'OMAN', 'PAKISTAN IR',\n",
       "       'PALAU', 'PANAMA C Z', 'PANAMA REPUBLIC', 'PAPUA N GNA',\n",
       "       'PARAGUAY', 'PERU', 'PHILIPPINES', 'PITCAIRN IS.', 'POLAND',\n",
       "       'PORTUGAL', 'PUERTO RICO', 'QATAR', 'REUNION', 'ROMANIA', 'RUSSIA',\n",
       "       'RWANDA', 'SAHARWI A.DM RP', 'SAMOA', 'SAN MARINO', 'SAO TOME',\n",
       "       'SAUDI ARAB', 'SENEGAL', 'SERBIA', 'SEYCHELLES', 'SIERRA LEONE',\n",
       "       'SINGAPORE', 'SINT MAARTEN (DUTCH PART)', 'SLOVAK REP', 'SLOVENIA',\n",
       "       'SOLOMON IS', 'SOMALIA', 'SOUTH AFRICA', 'SOUTH SUDAN ', 'SPAIN',\n",
       "       'SRI LANKA DSR', 'ST HELENA', 'ST KITT N A', 'ST LUCIA',\n",
       "       'ST PIERRE', 'ST VINCENT', 'STATE OF PALEST', 'SUDAN', 'SURINAME',\n",
       "       'SWAZILAND', 'SWEDEN', 'SWITZERLAND', 'SYRIA', 'TAIWAN',\n",
       "       'TAJIKISTAN', 'TANZANIA REP', 'THAILAND', 'TIMOR LESTE', 'TOGO',\n",
       "       'TOKELAU IS', 'TONGA', 'TRINIDAD', 'TUNISIA', 'TURKEY',\n",
       "       'TURKMENISTAN', 'TURKS C IS', 'TUVALU', 'U ARAB EMTS', 'U K',\n",
       "       'U S A', 'UGANDA', 'UKRAINE', 'UNION OF SERBIA & MONTENEGRO',\n",
       "       'UNSPECIFIED', 'URUGUAY',\n",
       "       'US MINOR OUTLYING ISLANDS               ', 'UZBEKISTAN',\n",
       "       'VANUATU REP', 'VATICAN CITY', 'VENEZUELA', 'VIETNAM SOC REP',\n",
       "       'VIRGIN IS US', 'WALLIS F IS', 'YEMEN REPUBLC', 'ZAMBIA',\n",
       "       'ZIMBABWE', 'COCOS IS', 'FR S ANT TR', 'NIUE IS', 'CANARY IS',\n",
       "       'CHANNEL IS', 'CHRISTMAS IS.', 'PACIFIC IS', 'NEUTRAL ZONE'],\n",
       "      dtype=object)"
      ]
     },
     "execution_count": 44,
     "metadata": {},
     "output_type": "execute_result"
    }
   ],
   "source": [
    "edata['country'].unique()"
   ]
  },
  {
   "cell_type": "code",
   "execution_count": 45,
   "metadata": {},
   "outputs": [
    {
     "data": {
      "text/plain": [
       "248"
      ]
     },
     "execution_count": 45,
     "metadata": {},
     "output_type": "execute_result"
    }
   ],
   "source": [
    "len(edata['country'].unique())"
   ]
  },
  {
   "cell_type": "code",
   "execution_count": 46,
   "metadata": {},
   "outputs": [],
   "source": [
    "counts = edata['country'].value_counts()"
   ]
  },
  {
   "cell_type": "code",
   "execution_count": 47,
   "metadata": {},
   "outputs": [
    {
     "data": {
      "text/plain": [
       "U ARAB EMTS      882\n",
       "GERMANY          881\n",
       "NEPAL            881\n",
       "U S A            881\n",
       "U K              880\n",
       "SRI LANKA DSR    880\n",
       "MALAYSIA         880\n",
       "SINGAPORE        879\n",
       "CHINA P RP       877\n",
       "SAUDI ARAB       877\n",
       "Name: country, dtype: int64"
      ]
     },
     "execution_count": 47,
     "metadata": {},
     "output_type": "execute_result"
    }
   ],
   "source": [
    "counts[:10]"
   ]
  },
  {
   "cell_type": "code",
   "execution_count": 48,
   "metadata": {},
   "outputs": [
    {
     "data": {
      "text/plain": [
       "['U ARAB EMTS',\n",
       " 'GERMANY',\n",
       " 'NEPAL',\n",
       " 'U S A',\n",
       " 'U K',\n",
       " 'SRI LANKA DSR',\n",
       " 'MALAYSIA',\n",
       " 'SINGAPORE',\n",
       " 'CHINA P RP',\n",
       " 'SAUDI ARAB']"
      ]
     },
     "execution_count": 48,
     "metadata": {},
     "output_type": "execute_result"
    }
   ],
   "source": [
    "list(counts[:10].index)"
   ]
  },
  {
   "cell_type": "code",
   "execution_count": 49,
   "metadata": {},
   "outputs": [
    {
     "data": {
      "text/plain": [
       "U ARAB EMTS      882\n",
       "GERMANY          881\n",
       "NEPAL            881\n",
       "U S A            881\n",
       "U K              880\n",
       "SRI LANKA DSR    880\n",
       "MALAYSIA         880\n",
       "SINGAPORE        879\n",
       "dtype: int64"
      ]
     },
     "execution_count": 49,
     "metadata": {},
     "output_type": "execute_result"
    }
   ],
   "source": [
    "max_countries = max_counts('country',8,edata)\n",
    "max_countries"
   ]
  },
  {
   "cell_type": "code",
   "execution_count": 50,
   "metadata": {},
   "outputs": [
    {
     "data": {
      "image/png": "[encoded data removed]",
      "text/plain": [
       "<Figure size 432x288 with 1 Axes>"
      ]
     },
     "metadata": {},
     "output_type": "display_data"
    }
   ],
   "source": [
    "series_pie(max_countries)"
   ]
  },
  {
   "cell_type": "code",
   "execution_count": 51,
   "metadata": {},
   "outputs": [
    {
     "data": {
      "image/png": "[encoded data removed]",
      "text/plain": [
       "<Figure size 432x288 with 1 Axes>"
      ]
     },
     "metadata": {
      "needs_background": "light"
     },
     "output_type": "display_data"
    }
   ],
   "source": [
    "series_bar(max_countries)"
   ]
  },
  {
   "cell_type": "code",
   "execution_count": 52,
   "metadata": {},
   "outputs": [],
   "source": [
    "make_label_encoder('country','country_code',edata)"
   ]
  },
  {
   "cell_type": "code",
   "execution_count": 53,
   "metadata": {},
   "outputs": [
    {
     "data": {
      "text/html": [
       "<div>\n",
       "<style scoped>\n",
       "    .dataframe tbody tr th:only-of-type {\n",
       "        vertical-align: middle;\n",
       "    }\n",
       "\n",
       "    .dataframe tbody tr th {\n",
       "        vertical-align: top;\n",
       "    }\n",
       "\n",
       "    .dataframe thead th {\n",
       "        text-align: right;\n",
       "    }\n",
       "</style>\n",
       "<table border=\"1\" class=\"dataframe\">\n",
       "  <thead>\n",
       "    <tr style=\"text-align: right;\">\n",
       "      <th></th>\n",
       "      <th>HSCode</th>\n",
       "      <th>value</th>\n",
       "      <th>year</th>\n",
       "      <th>country_code</th>\n",
       "    </tr>\n",
       "  </thead>\n",
       "  <tbody>\n",
       "    <tr>\n",
       "      <th>0</th>\n",
       "      <td>2</td>\n",
       "      <td>0.18</td>\n",
       "      <td>2018</td>\n",
       "      <td>0</td>\n",
       "    </tr>\n",
       "    <tr>\n",
       "      <th>1</th>\n",
       "      <td>3</td>\n",
       "      <td>0.00</td>\n",
       "      <td>2018</td>\n",
       "      <td>0</td>\n",
       "    </tr>\n",
       "    <tr>\n",
       "      <th>2</th>\n",
       "      <td>4</td>\n",
       "      <td>12.48</td>\n",
       "      <td>2018</td>\n",
       "      <td>0</td>\n",
       "    </tr>\n",
       "    <tr>\n",
       "      <th>3</th>\n",
       "      <td>6</td>\n",
       "      <td>0.00</td>\n",
       "      <td>2018</td>\n",
       "      <td>0</td>\n",
       "    </tr>\n",
       "    <tr>\n",
       "      <th>4</th>\n",
       "      <td>7</td>\n",
       "      <td>1.89</td>\n",
       "      <td>2018</td>\n",
       "      <td>0</td>\n",
       "    </tr>\n",
       "  </tbody>\n",
       "</table>\n",
       "</div>"
      ],
      "text/plain": [
       "   HSCode  value  year  country_code\n",
       "0       2   0.18  2018             0\n",
       "1       3   0.00  2018             0\n",
       "2       4  12.48  2018             0\n",
       "3       6   0.00  2018             0\n",
       "4       7   1.89  2018             0"
      ]
     },
     "execution_count": 53,
     "metadata": {},
     "output_type": "execute_result"
    }
   ],
   "source": [
    "edata.head()"
   ]
  },
  {
   "cell_type": "code",
   "execution_count": 54,
   "metadata": {},
   "outputs": [
    {
     "name": "stdout",
     "output_type": "stream",
     "text": [
      "<class 'pandas.core.frame.DataFrame'>\n",
      "RangeIndex: 137023 entries, 0 to 137022\n",
      "Data columns (total 4 columns):\n",
      "HSCode          137023 non-null int64\n",
      "value           122985 non-null float64\n",
      "year            137023 non-null int64\n",
      "country_code    137023 non-null int32\n",
      "dtypes: float64(1), int32(1), int64(2)\n",
      "memory usage: 3.7 MB\n"
     ]
    }
   ],
   "source": [
    "edata.info()"
   ]
  },
  {
   "cell_type": "code",
   "execution_count": 55,
   "metadata": {},
   "outputs": [],
   "source": [
    "new_data  = edata[edata['value'] > 0]"
   ]
  },
  {
   "cell_type": "code",
   "execution_count": 56,
   "metadata": {},
   "outputs": [
    {
     "data": {
      "text/plain": [
       "(107125, 4)"
      ]
     },
     "execution_count": 56,
     "metadata": {},
     "output_type": "execute_result"
    }
   ],
   "source": [
    "new_data.shape"
   ]
  },
  {
   "cell_type": "code",
   "execution_count": 57,
   "metadata": {},
   "outputs": [
    {
     "name": "stdout",
     "output_type": "stream",
     "text": [
      "<class 'pandas.core.frame.DataFrame'>\n",
      "Int64Index: 107125 entries, 0 to 137022\n",
      "Data columns (total 4 columns):\n",
      "HSCode          107125 non-null int64\n",
      "value           107125 non-null float64\n",
      "year            107125 non-null int64\n",
      "country_code    107125 non-null int32\n",
      "dtypes: float64(1), int32(1), int64(2)\n",
      "memory usage: 3.7 MB\n"
     ]
    }
   ],
   "source": [
    "new_data.info()"
   ]
  },
  {
   "cell_type": "code",
   "execution_count": 58,
   "metadata": {},
   "outputs": [],
   "source": [
    "X = new_data.drop(['value'], axis=1, inplace=False)\n",
    "y = new_data['value']"
   ]
  },
  {
   "cell_type": "code",
   "execution_count": 59,
   "metadata": {},
   "outputs": [
    {
     "data": {
      "text/plain": [
       "(107125, 3)"
      ]
     },
     "execution_count": 59,
     "metadata": {},
     "output_type": "execute_result"
    }
   ],
   "source": [
    "X.shape"
   ]
  },
  {
   "cell_type": "code",
   "execution_count": 60,
   "metadata": {},
   "outputs": [
    {
     "data": {
      "text/plain": [
       "(107125,)"
      ]
     },
     "execution_count": 60,
     "metadata": {},
     "output_type": "execute_result"
    }
   ],
   "source": [
    "y.shape"
   ]
  },
  {
   "cell_type": "code",
   "execution_count": 61,
   "metadata": {},
   "outputs": [
    {
     "name": "stdout",
     "output_type": "stream",
     "text": [
      "X_train shape is  (71773, 3)\n",
      "X_test shape is  (35352, 3)\n",
      "y_train shape is  (71773,)\n",
      "y_test shape is  (35352,)\n"
     ]
    }
   ],
   "source": [
    "X_train, X_test, y_train, y_test = train_test_split(X, y, test_size=0.33, random_state=44, shuffle =True)\n",
    "\n",
    "#Splitted Data\n",
    "print('X_train shape is ' , X_train.shape)\n",
    "print('X_test shape is ' , X_test.shape)\n",
    "print('y_train shape is ' , y_train.shape)\n",
    "print('y_test shape is ' , y_test.shape)"
   ]
  },
  {
   "cell_type": "code",
   "execution_count": 62,
   "metadata": {},
   "outputs": [
    {
     "data": {
      "text/plain": [
       "GradientBoostingRegressor(alpha=0.9, criterion='friedman_mse', init=None,\n",
       "             learning_rate=0.1, loss='ls', max_depth=10, max_features=None,\n",
       "             max_leaf_nodes=None, min_impurity_decrease=0.0,\n",
       "             min_impurity_split=None, min_samples_leaf=1,\n",
       "             min_samples_split=2, min_weight_fraction_leaf=0.0,\n",
       "             n_estimators=1000, n_iter_no_change=None, presort='auto',\n",
       "             random_state=33, subsample=1.0, tol=0.0001,\n",
       "             validation_fraction=0.1, verbose=0, warm_start=False)"
      ]
     },
     "execution_count": 62,
     "metadata": {},
     "output_type": "execute_result"
    }
   ],
   "source": [
    "GBRModel = GradientBoostingRegressor(n_estimators=1000,max_depth=10,learning_rate = 0.1 ,random_state=33)\n",
    "GBRModel.fit(X_train, y_train)"
   ]
  },
  {
   "cell_type": "code",
   "execution_count": 63,
   "metadata": {},
   "outputs": [
    {
     "name": "stdout",
     "output_type": "stream",
     "text": [
      "GBRModel Train Score is :  0.999904323051611\n",
      "GBRModel Test Score is :  0.8759112739396501\n"
     ]
    }
   ],
   "source": [
    "print('GBRModel Train Score is : ' , GBRModel.score(X_train, y_train))\n",
    "print('GBRModel Test Score is : ' , GBRModel.score(X_test, y_test))"
   ]
  },
  {
   "cell_type": "code",
   "execution_count": 64,
   "metadata": {},
   "outputs": [
    {
     "name": "stdout",
     "output_type": "stream",
     "text": [
      "Predicted Value for GBRModel is :  [ 8.98851412e-01  1.05280708e-01  2.74401935e+02 -1.50152711e+00\n",
      " -2.05510117e-01  1.84992732e+01  2.75233371e+00  6.96702888e+00\n",
      "  7.12756241e+00  3.92428165e+00]\n"
     ]
    }
   ],
   "source": [
    "y_pred = GBRModel.predict(X_test)\n",
    "print('Predicted Value for GBRModel is : ' , y_pred[:10])"
   ]
  },
  {
   "cell_type": "code",
   "execution_count": null,
   "metadata": {},
   "outputs": [],
   "source": []
  }
 ],
 "metadata": {
  "kernelspec": {
   "display_name": "Python 3",
   "language": "python",
   "name": "python3"
  },
  "language_info": {
   "codemirror_mode": {
    "name": "ipython",
    "version": 3
   },
   "file_extension": ".py",
   "mimetype": "text/x-python",
   "name": "python",
   "nbconvert_exporter": "python",
   "pygments_lexer": "ipython3",
   "version": "3.7.3"
  }
 },
 "nbformat": 4,
 "nbformat_minor": 2
}
